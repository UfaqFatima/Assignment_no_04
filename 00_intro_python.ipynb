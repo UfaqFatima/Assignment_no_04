{
  "nbformat": 4,
  "nbformat_minor": 0,
  "metadata": {
    "colab": {
      "provenance": []
    },
    "kernelspec": {
      "name": "python3",
      "display_name": "Python 3"
    },
    "language_info": {
      "name": "python"
    }
  },
  "cells": [
    {
      "cell_type": "code",
      "source": [
        "print(\"01_add_two_numbers\")\n",
        "\n",
        "def add():\n",
        "  print(\"This application for add two numbers\")\n",
        "  first_number = int(input(\"Enter your first number. \"))\n",
        "  second_number = int(input(\"Enter your second nunber. \"))\n",
        "  total = int(first_number + second_number)\n",
        "  print(f'The total sum of {first_number} and {second_number} is {total}')\n",
        "\n",
        "if __name__ == \"__main__\":\n",
        "  add()"
      ],
      "metadata": {
        "colab": {
          "base_uri": "https://localhost:8080/"
        },
        "id": "tE_yw1JYH8n9",
        "outputId": "180d15a3-9de0-4b0d-9554-8b80290e5b66"
      },
      "execution_count": 2,
      "outputs": [
        {
          "output_type": "stream",
          "name": "stdout",
          "text": [
            "01_add_two_numbers\n",
            "This application for add two numbers\n",
            "Enter your first number. 20\n",
            "Enter your second nunber. 10\n",
            "The total sum of 20 and 10 is 30\n"
          ]
        }
      ]
    },
    {
      "cell_type": "code",
      "source": [
        "print(\"02_agreement_bot\")\n",
        "\n",
        "def bot():\n",
        "  animal = str(input(\"what their favorite animal is? \"))\n",
        "  print(f'My favorite animal is also {animal}!')\n",
        "\n",
        "if __name__ == \"__main__\":\n",
        "  bot()\n",
        ""
      ],
      "metadata": {
        "colab": {
          "base_uri": "https://localhost:8080/"
        },
        "id": "aHJW0aiZIFpO",
        "outputId": "cd69a482-c30d-4c04-9be3-594a4e771554"
      },
      "execution_count": 3,
      "outputs": [
        {
          "output_type": "stream",
          "name": "stdout",
          "text": [
            "02_agreement_bot\n",
            "what their favorite animal is? cow\n",
            "My favorite animal is also cow!\n"
          ]
        }
      ]
    },
    {
      "cell_type": "code",
      "source": [
        "print(\"03_fahrenheit_to_celsius\")\n",
        "\n",
        "def temp():\n",
        "  print(\"This code for converting fahrenheit to celsius\")\n",
        "  fahrenheit_degree = float(input(\"Enter your fahrenheit degree. \"))\n",
        "  celsius_degree = (fahrenheit_degree - 32) * 5.0/9.0\n",
        "  print(f'Tempereture {fahrenheit_degree} F = {celsius_degree} C')\n",
        "\n",
        "if __name__ == \"__main__\":\n",
        "  temp()"
      ],
      "metadata": {
        "colab": {
          "base_uri": "https://localhost:8080/"
        },
        "id": "lBGHNc30IRcw",
        "outputId": "84e512d4-7d16-4dc1-c918-8ffa6605e26e"
      },
      "execution_count": 4,
      "outputs": [
        {
          "output_type": "stream",
          "name": "stdout",
          "text": [
            "03_fahrenheit_to_celsius\n",
            "This code for converting fahrenheit to celsius\n",
            "Enter your fahrenheit degree. 50\n",
            "Tempereture 50.0 F = 10.0 C\n"
          ]
        }
      ]
    },
    {
      "cell_type": "code",
      "source": [
        "print(\"04_how_old_are_they\")\n",
        "\n",
        "def add_ages():\n",
        "  anthon:int = 21\n",
        "  beth:int = anthon + 6\n",
        "  chen:int = beth + 20\n",
        "  drew:int = chen + anthon\n",
        "  ethan:int = chen\n",
        "\n",
        "  print(\"Anthon is \" + str(anthon))\n",
        "  print(\"Beth is \" + str(beth))\n",
        "  print(\"Chen is \" + str(chen))\n",
        "  print(\"Drew is \" + str(drew))\n",
        "  print(\"Ethen is \" + str(ethan))\n",
        "\n",
        "\n",
        "if __name__ == \"__main__\":\n",
        "  add_ages()"
      ],
      "metadata": {
        "colab": {
          "base_uri": "https://localhost:8080/"
        },
        "id": "tBc68c2aIZrq",
        "outputId": "12f81e4a-d47f-44ae-b8d7-7f25023add6d"
      },
      "execution_count": 5,
      "outputs": [
        {
          "output_type": "stream",
          "name": "stdout",
          "text": [
            "04_how_old_are_they\n",
            "Anthon is 21\n",
            "Beth is 27\n",
            "Chen is 47\n",
            "Drew is 68\n",
            "Ethen is 47\n"
          ]
        }
      ]
    },
    {
      "cell_type": "code",
      "source": [
        "print(\"05_triangle_perimeter.\")\n",
        "\n",
        "def triangle():\n",
        "  print(\"This code is about perimeter of triangle.\")\n",
        "  side1:float = float(input(\"Enter your first side no of triangle. \"))\n",
        "  side2:float= float(input(\"Enter your second side no of triangke. \"))\n",
        "  side3:float = float(input(\"Enter your third side no of triangle. \"))\n",
        "  total:float = float(side1 + side2 + side3)\n",
        "  print(f'The perimeter of the triangle is {total}')\n",
        "\n",
        "if __name__ == \"__main__\":\n",
        "  triangle()"
      ],
      "metadata": {
        "colab": {
          "base_uri": "https://localhost:8080/"
        },
        "id": "N2LujWcHIfNs",
        "outputId": "61baeb69-185f-4958-ca16-1e7c62f9d0a3"
      },
      "execution_count": 6,
      "outputs": [
        {
          "output_type": "stream",
          "name": "stdout",
          "text": [
            "05_triangle_perimeter.\n",
            "This code is about perimeter of triangle.\n",
            "Enter your first side no of triangle. 10\n",
            "Enter your second side no of triangke. 20\n",
            "Enter your third side no of triangle. 30\n",
            "The perimeter of the triangle is 60.0\n"
          ]
        }
      ]
    },
    {
      "cell_type": "code",
      "source": [
        "print(\"06_square_number\")\n",
        "\n",
        "def square():\n",
        "  print(\"This code is about square of given number\")\n",
        "  num1:int = int(input(\"Enter any number and i will give u a square value. \"))\n",
        "  print(f'The square of {num1} is {num1 ** 2}')\n",
        "\n",
        "if __name__ == \"__main__\":\n",
        "  square()\n"
      ],
      "metadata": {
        "colab": {
          "base_uri": "https://localhost:8080/"
        },
        "id": "pq8wy6roIoNF",
        "outputId": "3b70475d-f214-42cd-8987-aed631884a26"
      },
      "execution_count": 7,
      "outputs": [
        {
          "output_type": "stream",
          "name": "stdout",
          "text": [
            "06_square_number\n",
            "This code is about square of given number\n",
            "Enter any number and i will give u a square value. 10\n",
            "The square of 10 is 100\n"
          ]
        }
      ]
    }
  ]
}