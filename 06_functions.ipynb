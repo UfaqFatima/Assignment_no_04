{
  "nbformat": 4,
  "nbformat_minor": 0,
  "metadata": {
    "colab": {
      "provenance": []
    },
    "kernelspec": {
      "name": "python3",
      "display_name": "Python 3"
    },
    "language_info": {
      "name": "python"
    }
  },
  "cells": [
    {
      "cell_type": "code",
      "execution_count": 1,
      "metadata": {
        "colab": {
          "base_uri": "https://localhost:8080/"
        },
        "id": "xqn90xIzKDcS",
        "outputId": "56e52e5e-d391-4158-8902-e07d252dd6bc"
      },
      "outputs": [
        {
          "output_type": "stream",
          "name": "stdout",
          "text": [
            "avg_1 5.0\n",
            "avg_2 9.0\n",
            "final 7.0\n"
          ]
        }
      ],
      "source": [
        "def average(a: float, b: float):\n",
        "    \"\"\"\n",
        "    Returns the number which is half way between a and b\n",
        "    \"\"\"\n",
        "    sum = a + b\n",
        "    return sum / 2\n",
        "\n",
        "def main():\n",
        "    avg_1 = average(0, 10)\n",
        "    avg_2 = average(8, 10)\n",
        "\n",
        "    final = average(avg_1, avg_2)\n",
        "    print(\"avg_1\", avg_1)\n",
        "    print(\"avg_2\", avg_2)\n",
        "    print(\"final\", final)\n",
        "\n",
        "\n",
        "# There is no need to edit code beyond this point\n",
        "\n",
        "if __name__ == '__main__':\n",
        "    main()\n",
        ""
      ]
    },
    {
      "cell_type": "markdown",
      "source": [
        "01_chaotic_counting.md"
      ],
      "metadata": {
        "id": "S45Q4Sp3KdSK"
      }
    },
    {
      "cell_type": "code",
      "source": [
        "import random  # Missing import added\n",
        "\n",
        "DONE_LIKELIHOOD = 0.3  # You can adjust this value as needed\n",
        "\n",
        "def chaotic_counting():\n",
        "    for i in range(10):\n",
        "        curr_num = i + 1\n",
        "        if done():\n",
        "            return  # This ends the function execution, so we'll get back to the main() function!\n",
        "        print(curr_num)\n",
        "\n",
        "# There is no need to edit code beyond this point\n",
        "\n",
        "def done():\n",
        "    \"\"\" Returns True with a probability of DONE_LIKELIHOOD \"\"\"\n",
        "    if random.random() < DONE_LIKELIHOOD:\n",
        "        return True\n",
        "    return False\n",
        "\n",
        "def main():\n",
        "    print(\"I'm going to count until 10 or until I feel like stopping, whichever comes first.\")\n",
        "    chaotic_counting()\n",
        "    print(\"I'm done\")\n",
        "\n",
        "if __name__ == \"__main__\":\n",
        "    main()"
      ],
      "metadata": {
        "colab": {
          "base_uri": "https://localhost:8080/"
        },
        "id": "2KHIlKvNKTHJ",
        "outputId": "749e8ba0-fbd4-4f65-b127-366d19c1078e"
      },
      "execution_count": 2,
      "outputs": [
        {
          "output_type": "stream",
          "name": "stdout",
          "text": [
            "I'm going to count until 10 or until I feel like stopping, whichever comes first.\n",
            "I'm done\n"
          ]
        }
      ]
    },
    {
      "cell_type": "markdown",
      "source": [
        "02_count_even.md\n",
        "\n"
      ],
      "metadata": {
        "id": "4qTahDmKKqUc"
      }
    },
    {
      "cell_type": "code",
      "source": [
        "def count_even(lst):\n",
        "    \"\"\"\n",
        "    Returns number of even numbers in list.\n",
        "    >>> count_even([1,2,3,4])\n",
        "    2\n",
        "    >>> count_even([1,3,5,7])\n",
        "    0\n",
        "    \"\"\"\n",
        "    count = 0  # Stores the count of even numbers in the list\n",
        "    for num in lst:  # Loop through the numbers in the list\n",
        "        if num % 2 == 0:  # If the current number in the list is even (divisible by 2)\n",
        "            count += 1  # Add one to our count!\n",
        "\n",
        "    # Here's another way to do this same thing, with a different kind of for-loop:\n",
        "    # for i in range(len(lst)):\n",
        "    #     num = lst[i]\n",
        "    #     if num % 2 == 0:\n",
        "    #         count += 1\n",
        "\n",
        "    print(count)  # Print out how many even numbers we counted above\n",
        "\n",
        "def get_list_of_ints():\n",
        "    \"\"\"\n",
        "    Reads in integers until the user presses enter and returns the resulting list.\n",
        "    \"\"\"\n",
        "    lst = []  # Make an empty list to store integers\n",
        "    user_input = input(\"Enter an integer or press enter to stop: \")  # Get user input for an integer\n",
        "    while user_input != \"\":  # While the user doesn't enter nothing...\n",
        "        lst.append(int(user_input))  # Cast the user input into an integer and add it to our list\n",
        "        user_input = input(\"Enter an integer or press enter to stop: \")  # Get the next user input\n",
        "\n",
        "    return lst\n",
        "\n",
        "def main():\n",
        "    lst = get_list_of_ints()\n",
        "    count_even(lst)\n",
        "\n",
        "\n",
        "\n",
        "\n",
        "if __name__ == '__main__':\n",
        "    main()\n",
        "\n",
        "\n"
      ],
      "metadata": {
        "colab": {
          "base_uri": "https://localhost:8080/"
        },
        "id": "Zx60ws9UKuSe",
        "outputId": "ba5dc8af-b701-4d4f-dbfc-7a1e9522e27d"
      },
      "execution_count": 3,
      "outputs": [
        {
          "output_type": "stream",
          "name": "stdout",
          "text": [
            "Enter an integer or press enter to stop: 1\n",
            "Enter an integer or press enter to stop: 2\n",
            "Enter an integer or press enter to stop: 5\n",
            "Enter an integer or press enter to stop: 7\n",
            "Enter an integer or press enter to stop: 8\n",
            "Enter an integer or press enter to stop: 2\n",
            "Enter an integer or press enter to stop: 9\n",
            "Enter an integer or press enter to stop: 7\n",
            "Enter an integer or press enter to stop: \n",
            "3\n"
          ]
        }
      ]
    },
    {
      "cell_type": "markdown",
      "source": [
        "04_double.md\n",
        "\n"
      ],
      "metadata": {
        "id": "hyAt4qR6LwWW"
      }
    },
    {
      "cell_type": "code",
      "source": [
        "def double(num: int):\n",
        "    return num * 2\n",
        "\n",
        "\n",
        "\n",
        "def main():\n",
        "    num = int(input(\"Enter a number: \"))\n",
        "    num_times_2 = double(num)\n",
        "    print(\"Double that is\", num_times_2)\n",
        "\n",
        "if __name__ == '__main__':\n",
        "    main()"
      ],
      "metadata": {
        "colab": {
          "base_uri": "https://localhost:8080/"
        },
        "id": "h_d2lq3-LzBi",
        "outputId": "044628c6-2979-4956-a0bc-2e311ad6d661"
      },
      "execution_count": 4,
      "outputs": [
        {
          "output_type": "stream",
          "name": "stdout",
          "text": [
            "Enter a number: 6\n",
            "Double that is 12\n"
          ]
        }
      ]
    },
    {
      "cell_type": "markdown",
      "source": [
        "***05_get_name.md**\n",
        "\n"
      ],
      "metadata": {
        "id": "K2UyRgPUL-65"
      }
    },
    {
      "cell_type": "code",
      "source": [
        "def get_name():\n",
        "    return \"Sophia\"\n",
        "\n",
        "\n",
        "\n",
        "def main():\n",
        "    name = get_name() # get_name() will return a string which we store to the 'name' variable here\n",
        "    print(\"Howdy\", name, \"UFFFAQ\", \"! 🤠\")\n",
        "\n",
        "if __name__ == '__main__':\n",
        "    main()"
      ],
      "metadata": {
        "colab": {
          "base_uri": "https://localhost:8080/"
        },
        "id": "hBsGTlTVMB2a",
        "outputId": "614327fe-93e0-4668-b6ae-64a894a82a5f"
      },
      "execution_count": 6,
      "outputs": [
        {
          "output_type": "stream",
          "name": "stdout",
          "text": [
            "Howdy Sophia UFFFAQ ! 🤠\n"
          ]
        }
      ]
    },
    {
      "cell_type": "markdown",
      "source": [
        "**06_is_odd.md***\n",
        "\n"
      ],
      "metadata": {
        "id": "f1pnjahoMPIg"
      }
    },
    {
      "cell_type": "code",
      "source": [
        "def main():\n",
        "    for i in range(10):\n",
        "        if is_odd(i):\n",
        "            print(f'{i} is odd')\n",
        "        else:\n",
        "            print(f'{i} is even')\n",
        "\n",
        "def is_odd(value: int):\n",
        "    \"\"\"\n",
        "    Checks to see if a value is odd. If it is, returns true.\n",
        "    \"\"\"\n",
        "\n",
        "    remainder = value % 2  # 0 if value is divisible by 2, 1 if it isn't\n",
        "    return remainder == 1\n",
        "\n",
        "\n",
        "\n",
        "if __name__ == '__main__':\n",
        "    main()"
      ],
      "metadata": {
        "colab": {
          "base_uri": "https://localhost:8080/"
        },
        "id": "1PZ969WOMRU1",
        "outputId": "40d1c01c-8fff-4c1c-a08a-79252e554de3"
      },
      "execution_count": 7,
      "outputs": [
        {
          "output_type": "stream",
          "name": "stdout",
          "text": [
            "0 is even\n",
            "1 is odd\n",
            "2 is even\n",
            "3 is odd\n",
            "4 is even\n",
            "5 is odd\n",
            "6 is even\n",
            "7 is odd\n",
            "8 is even\n",
            "9 is odd\n"
          ]
        }
      ]
    },
    {
      "cell_type": "markdown",
      "source": [
        "07_print_divisor.md\n",
        "\n"
      ],
      "metadata": {
        "id": "fChiXuC7MfEm"
      }
    },
    {
      "cell_type": "code",
      "source": [
        "def print_divisors(num: int):\n",
        "    print(\"Here are the divisors of\", num)\n",
        "    for i in range(num):\n",
        "        curr_divisor = i + 1\n",
        "        if num % curr_divisor == 0:\n",
        "            print(curr_divisor)\n",
        "\n",
        "def main():\n",
        "    num = int(input(\"Enter a number: \"))\n",
        "    print_divisors(num)\n",
        "\n",
        "\n",
        "\n",
        "if __name__ == '__main__':\n",
        "    main()"
      ],
      "metadata": {
        "colab": {
          "base_uri": "https://localhost:8080/"
        },
        "id": "Tbp4pcsfMgeb",
        "outputId": "55dc011c-0b64-4efc-87bd-08c18bc84264"
      },
      "execution_count": 8,
      "outputs": [
        {
          "output_type": "stream",
          "name": "stdout",
          "text": [
            "Enter a number: 8\n",
            "Here are the divisors of 8\n",
            "1\n",
            "2\n",
            "4\n",
            "8\n"
          ]
        }
      ]
    },
    {
      "cell_type": "markdown",
      "source": [
        "08_print_multiple.md\n",
        "\n"
      ],
      "metadata": {
        "id": "M5JRa4sjNAL4"
      }
    },
    {
      "cell_type": "code",
      "source": [
        "def print_multiple(message: str, repeats: int):\n",
        "    for _ in range(repeats):\n",
        "        print(message, end=\" \")\n",
        "    print()\n",
        "\n",
        "def main():\n",
        "    message = input(\"Please type a message: \")\n",
        "    repeats = int(input(\"Enter a number of times to repeat your message: \"))\n",
        "    print_multiple(message, repeats)\n",
        "\n",
        "\n",
        "if __name__ == '__main__':\n",
        "    main()"
      ],
      "metadata": {
        "colab": {
          "base_uri": "https://localhost:8080/"
        },
        "id": "Jbe8pdXlNEQV",
        "outputId": "d4eadfe8-faac-4235-a9da-60899fd2a633"
      },
      "execution_count": 9,
      "outputs": [
        {
          "output_type": "stream",
          "name": "stdout",
          "text": [
            "Please type a message: Hello Ufaq\n",
            "Enter a number of times to repeat your message: 2\n",
            "Hello Ufaq Hello Ufaq \n"
          ]
        }
      ]
    },
    {
      "cell_type": "markdown",
      "source": [
        "09_sentence_generator.md\n",
        "\n",
        "\n",
        "\n"
      ],
      "metadata": {
        "id": "26ox_si0NQJf"
      }
    },
    {
      "cell_type": "code",
      "source": [
        "def make_sentence(word, part_of_speech):\n",
        "    if part_of_speech == 0:\n",
        "        # noun\n",
        "        print(\"I am excited to add this \" + word + \" to my vast collection of them!\")\n",
        "    elif part_of_speech == 1:\n",
        "        # verb\n",
        "        print(\"It's so nice outside today it makes me want to \" + word + \"!\")\n",
        "    elif part_of_speech == 2:\n",
        "        # adjective\n",
        "        print(\"Looking out my window, the sky is big and \" + word + \"!\")\n",
        "    else:\n",
        "        # part_of_speech is invalid (not 0, 1, or 2)\n",
        "        print(\"Part of speech must be 0, 1, or 2! Can't make a sentence.\")\n",
        "\n",
        "# There is no need to edit code beyond this point\n",
        "\n",
        "def main():\n",
        "    word :  str = input(\"Please type a noun, verb, or adjective: \")\n",
        "    print(\"Is this a noun, verb, or adjective?\")\n",
        "    part_of_speech = int(input(\"Type 0 for noun, 1 for verb, 2 for adjective: \"))\n",
        "    make_sentence(word, part_of_speech)\n",
        "\n",
        "if __name__ == '__main__':\n",
        "    main()"
      ],
      "metadata": {
        "colab": {
          "base_uri": "https://localhost:8080/"
        },
        "id": "b9bMlQ99NUxF",
        "outputId": "ae80546e-7264-4edc-accf-d8538d09e8f2"
      },
      "execution_count": 10,
      "outputs": [
        {
          "output_type": "stream",
          "name": "stdout",
          "text": [
            "Please type a noun, verb, or adjective: book\n",
            "Is this a noun, verb, or adjective?\n",
            "Type 0 for noun, 1 for verb, 2 for adjective: 0\n",
            "I am excited to add this book to my vast collection of them!\n"
          ]
        }
      ]
    },
    {
      "cell_type": "markdown",
      "source": [
        "10_print_ones_digit.md\n",
        "\n"
      ],
      "metadata": {
        "id": "qhggAQANNnhY"
      }
    },
    {
      "cell_type": "code",
      "source": [
        "def print_ones_digit(num: int):\n",
        "    ones_digit = num % 10\n",
        "    print(f\"The ones digit is {ones_digit}\")\n",
        "\n",
        "def main():\n",
        "    num = int(input(\"Enter a number: \"))\n",
        "    print_ones_digit(num)\n",
        "\n",
        "\n",
        "if __name__ == '__main__':\n",
        "    main()"
      ],
      "metadata": {
        "colab": {
          "base_uri": "https://localhost:8080/"
        },
        "id": "E_E7wTtGNtJC",
        "outputId": "787f54e1-9e24-4d61-8f4f-dfe5164fba2b"
      },
      "execution_count": 11,
      "outputs": [
        {
          "output_type": "stream",
          "name": "stdout",
          "text": [
            "Enter a number: 170\n",
            "The ones digit is 0\n"
          ]
        }
      ]
    }
  ]
}