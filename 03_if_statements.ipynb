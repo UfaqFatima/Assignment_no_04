{
  "nbformat": 4,
  "nbformat_minor": 0,
  "metadata": {
    "colab": {
      "provenance": []
    },
    "kernelspec": {
      "name": "python3",
      "display_name": "Python 3"
    },
    "language_info": {
      "name": "python"
    }
  },
  "cells": [
    {
      "cell_type": "code",
      "execution_count": 4,
      "metadata": {
        "colab": {
          "base_uri": "https://localhost:8080/"
        },
        "id": "pL8nhYlBnDeQ",
        "outputId": "ecfbdd8c-aa9a-410f-98ec-5c8c351f013a"
      },
      "outputs": [
        {
          "output_type": "stream",
          "name": "stdout",
          "text": [
            "01_print_events\n",
            "0\n",
            "2\n",
            "4\n",
            "6\n",
            "8\n",
            "10\n",
            "12\n",
            "14\n",
            "16\n",
            "18\n",
            "20\n",
            "22\n",
            "24\n",
            "26\n",
            "28\n",
            "30\n",
            "32\n",
            "34\n",
            "36\n",
            "38\n"
          ]
        }
      ],
      "source": [
        "print(\"01_print_events\")\n",
        "\n",
        "def even():\n",
        "  for i in range(20):\n",
        "    even = i*2\n",
        "    print(even)\n",
        "  #  print(\"Here is 20 even numbers are: \",i * 4)\n",
        "\n",
        "\n",
        "if __name__ == \"__main__\":\n",
        "  even()"
      ]
    },
    {
      "cell_type": "code",
      "source": [
        "print(\"02_international_voting_age\")\n",
        "\n",
        "Rekjavik:int = 16\n",
        "Ougaduoguo:int = 25\n",
        "Lijublijana:int = 48\n",
        "age:int = int(input(\"How old are you?\"))\n",
        "\n",
        "def main():\n",
        "\n",
        "  if age >= Rekjavik:\n",
        "    print(f\"Your age is {age}.you are eligible to vote in Rekjavik!\")\n",
        "  else:\n",
        "    print(f\"Your age is {age}.you are not eligible to vote in Rekjavik!\")\n",
        "\n",
        "\n",
        "if age >= Ougaduoguo:\n",
        "\n",
        "      print(f\"Your age is {age}.you are eligible to vote in Ougaduoguo!\")\n",
        "else:\n",
        "      print(f\"Your age is {age}.you are not eligible to vote in Ougaduogu!\")\n",
        "\n",
        "\n",
        "if age >= Lijublijana:\n",
        "      print(f\"Your age is {age}.you are eligible to vote in Lijublijana!\")\n",
        "else:\n",
        "      print(f\"Your age is {age}.you are not eligible to vote in Lijublijana!\")\n",
        "\n",
        "if __name__ == \"__main__\":\n",
        "  main()\n",
        ""
      ],
      "metadata": {
        "colab": {
          "base_uri": "https://localhost:8080/"
        },
        "id": "O_HIVOIEsrZu",
        "outputId": "13877203-7367-4ca3-d432-f7df569db728"
      },
      "execution_count": 7,
      "outputs": [
        {
          "output_type": "stream",
          "name": "stdout",
          "text": [
            "02_international_voting_age\n",
            "How old are you?25\n",
            "Your age is 25.you are eligible to vote in Ougaduoguo!\n",
            "Your age is 25.you are not eligible to vote in Lijublijana!\n",
            "Your age is 25.you are eligible to vote in Rekjavik!\n"
          ]
        }
      ]
    },
    {
      "cell_type": "code",
      "source": [
        "print(\"03_leap_year\")\n",
        "\n",
        "def leap_year():\n",
        "  year:int = int(input(\"Enter as year.\"))\n",
        "\n",
        "  if year % 4 == 0:\n",
        "    if year % 100 == 0:\n",
        "      if year % 400 == 0:\n",
        "        print(f'{year} is a leap year.')\n",
        "      else:\n",
        "        print(f\"{year} is not a leap year.\")\n",
        "    else:\n",
        "      print(f'{year} is not a leap year.')\n",
        "  else:\n",
        "    print(f\"{year} is not a leap year.\")\n",
        "\n",
        "if __name__ == \"__main__\":\n",
        "  leap_year()"
      ],
      "metadata": {
        "colab": {
          "base_uri": "https://localhost:8080/"
        },
        "id": "fsd7OvEVvEcC",
        "outputId": "5871a2f2-e953-4c0e-be32-3d2bdf0ead0e"
      },
      "execution_count": 8,
      "outputs": [
        {
          "output_type": "stream",
          "name": "stdout",
          "text": [
            "03_leap_year\n",
            "Enter as year.2025\n",
            "2025 is not a leap year.\n"
          ]
        }
      ]
    },
    {
      "cell_type": "code",
      "source": [
        "print(\"04_tall_enough_to_ride\")\n",
        "\n",
        "min_height:int = 40\n",
        "def main():\n",
        "  user:int = int(input(\"How tall are you? \"))\n",
        "  if user >= min_height:\n",
        "    print(\"you are tall enough to ride\")\n",
        "  else:\n",
        "    print(\"you are not tall enough to ride.May be next year.\")\n",
        "\n",
        "if __name__ == \"__main__\":\n",
        "  main()"
      ],
      "metadata": {
        "colab": {
          "base_uri": "https://localhost:8080/"
        },
        "id": "hUb426NQvUM8",
        "outputId": "12dc1da1-8100-4548-84f6-2e15a9efe41a"
      },
      "execution_count": 9,
      "outputs": [
        {
          "output_type": "stream",
          "name": "stdout",
          "text": [
            "04_tall_enough_to_ride\n",
            "How tall are you? 4\n",
            "you are not tall enough to ride.May be next year.\n"
          ]
        }
      ]
    },
    {
      "cell_type": "code",
      "source": [
        "import random\n",
        "\n",
        "def main():\n",
        "  for i in range(10):\n",
        "    num:list[int] =  random.randint(1,100)\n",
        "    print(num)\n",
        "\n",
        "if __name__ == \"__main__\":\n",
        "  main()"
      ],
      "metadata": {
        "colab": {
          "base_uri": "https://localhost:8080/"
        },
        "id": "MAOEDB7dv07c",
        "outputId": "ae7b931d-0140-4f1d-f0f6-efbd873cf4fe"
      },
      "execution_count": 11,
      "outputs": [
        {
          "output_type": "stream",
          "name": "stdout",
          "text": [
            "64\n",
            "62\n",
            "100\n",
            "61\n",
            "39\n",
            "13\n",
            "84\n",
            "19\n",
            "61\n",
            "65\n"
          ]
        }
      ]
    }
  ]
}